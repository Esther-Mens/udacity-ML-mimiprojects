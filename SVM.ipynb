{
 "cells": [
  {
   "cell_type": "code",
   "execution_count": 1,
   "id": "8ed34e20",
   "metadata": {},
   "outputs": [],
   "source": [
    "words = \"Downloads/Data/word_data.pkl\""
   ]
  },
  {
   "cell_type": "code",
   "execution_count": 2,
   "id": "7695e345",
   "metadata": {},
   "outputs": [],
   "source": [
    "authors = \"Downloads/Data/email_authors.pkl\""
   ]
  },
  {
   "cell_type": "code",
   "execution_count": 3,
   "id": "a0fad406",
   "metadata": {},
   "outputs": [],
   "source": [
    "import pandas as pd"
   ]
  },
  {
   "cell_type": "code",
   "execution_count": 4,
   "id": "fd2e818f",
   "metadata": {},
   "outputs": [
    {
     "data": {
      "text/plain": [
       "'Downloads/Data/email_authors.pkl'"
      ]
     },
     "execution_count": 4,
     "metadata": {},
     "output_type": "execute_result"
    }
   ],
   "source": [
    "authors"
   ]
  },
  {
   "cell_type": "code",
   "execution_count": 5,
   "id": "13b6476b",
   "metadata": {},
   "outputs": [],
   "source": [
    "authors_file =  pd.read_pickle(authors)\n",
    "words_file = pd.read_pickle(words)"
   ]
  },
  {
   "cell_type": "code",
   "execution_count": 8,
   "id": "76b147c7",
   "metadata": {},
   "outputs": [],
   "source": [
    "x = words_file"
   ]
  },
  {
   "cell_type": "code",
   "execution_count": 9,
   "id": "0f663b70",
   "metadata": {},
   "outputs": [],
   "source": [
    "y = authors_file"
   ]
  },
  {
   "cell_type": "code",
   "execution_count": 10,
   "id": "75f55774",
   "metadata": {},
   "outputs": [],
   "source": [
    "from sklearn.model_selection import train_test_split"
   ]
  },
  {
   "cell_type": "code",
   "execution_count": 11,
   "id": "49a58c2a",
   "metadata": {},
   "outputs": [],
   "source": [
    "X_train, X_test, y_train, y_test = train_test_split(x, y, test_size=0.30, random_state=42)"
   ]
  },
  {
   "cell_type": "code",
   "execution_count": 12,
   "id": "28e26c28",
   "metadata": {},
   "outputs": [],
   "source": [
    "from sklearn.feature_extraction.text import TfidfVectorizer\n",
    "from sklearn.feature_selection import SelectPercentile, f_classif"
   ]
  },
  {
   "cell_type": "code",
   "execution_count": 13,
   "id": "8d4f16ed",
   "metadata": {},
   "outputs": [],
   "source": [
    "### text vectorization\n",
    "vectorizer = TfidfVectorizer(sublinear_tf=True, max_df=0.5,\n",
    "                                 stop_words='english')\n",
    "X_train_transformed = vectorizer.fit_transform(X_train)\n",
    "X_test_transformed  = vectorizer.transform(X_test)"
   ]
  },
  {
   "cell_type": "code",
   "execution_count": 14,
   "id": "3aaba195",
   "metadata": {},
   "outputs": [],
   "source": [
    "### feature selection\n",
    "selector = SelectPercentile(f_classif, percentile=30)\n",
    "selector.fit(X_train_transformed, y_train)\n",
    "X_train_transformed = selector.transform(X_train_transformed).toarray()\n",
    "X_test_transformed  = selector.transform(X_test_transformed).toarray()"
   ]
  },
  {
   "cell_type": "code",
   "execution_count": 15,
   "id": "c9adbe04",
   "metadata": {},
   "outputs": [
    {
     "name": "stdout",
     "output_type": "stream",
     "text": [
      "number of Chris training emails: 6161\n",
      "number of Sara training emails: 6143\n"
     ]
    }
   ],
   "source": [
    "## info on the data\n",
    "print(\"number of Chris training emails:\", sum(y_train))\n",
    "print(\"number of Sara training emails:\", len(y_train)-sum(y_train))"
   ]
  },
  {
   "cell_type": "code",
   "execution_count": 16,
   "id": "8a874dc4",
   "metadata": {},
   "outputs": [],
   "source": [
    "from sklearn.svm import SVC"
   ]
  },
  {
   "cell_type": "code",
   "execution_count": 17,
   "id": "40d073f3",
   "metadata": {},
   "outputs": [],
   "source": [
    "from sklearn.metrics import accuracy_score\n",
    "from sklearn.metrics import classification_report,confusion_matrix\n",
    "import seaborn as sns"
   ]
  },
  {
   "cell_type": "code",
   "execution_count": 18,
   "id": "f7a151f4",
   "metadata": {},
   "outputs": [
    {
     "data": {
      "text/plain": [
       "SVC(kernel='linear')"
      ]
     },
     "execution_count": 18,
     "metadata": {},
     "output_type": "execute_result"
    }
   ],
   "source": [
    "svclassifier = SVC(kernel='linear')\n",
    "svclassifier.fit(X_train_transformed, y_train)"
   ]
  },
  {
   "cell_type": "code",
   "execution_count": 19,
   "id": "b3bf892a",
   "metadata": {},
   "outputs": [],
   "source": [
    "svc_predicted = svclassifier.predict(X_test_transformed)"
   ]
  },
  {
   "cell_type": "code",
   "execution_count": 20,
   "id": "b8ba3798",
   "metadata": {},
   "outputs": [
    {
     "name": "stdout",
     "output_type": "stream",
     "text": [
      "SVC Score: \n",
      " 99.47\n",
      "SVC Test Score: \n",
      " 98.46\n",
      "Accuracy: \n",
      " 0.984641638225256\n",
      "[[2585   49]\n",
      " [  32 2608]]\n",
      "              precision    recall  f1-score   support\n",
      "\n",
      "           0       0.99      0.98      0.98      2634\n",
      "           1       0.98      0.99      0.98      2640\n",
      "\n",
      "    accuracy                           0.98      5274\n",
      "   macro avg       0.98      0.98      0.98      5274\n",
      "weighted avg       0.98      0.98      0.98      5274\n",
      "\n"
     ]
    },
    {
     "data": {
      "text/plain": [
       "<AxesSubplot:>"
      ]
     },
     "execution_count": 20,
     "metadata": {},
     "output_type": "execute_result"
    },
    {
     "data": {
      "image/png": "[encoded data removed]",
      "text/plain": [
       "<Figure size 432x288 with 2 Axes>"
      ]
     },
     "metadata": {
      "needs_background": "light"
     },
     "output_type": "display_data"
    }
   ],
   "source": [
    "svc_score = round(svclassifier.score(X_train_transformed, y_train) * 100, 2)\n",
    "svc_score_test = round(svclassifier.score(X_test_transformed, y_test) * 100, 2)\n",
    "print('SVC Score: \\n', svc_score)\n",
    "print('SVC Test Score: \\n', svc_score_test)\n",
    "print('Accuracy: \\n', accuracy_score(y_test, svc_predicted))\n",
    "print(confusion_matrix(y_test,svc_predicted))\n",
    "print(classification_report(y_test,svc_predicted))\n",
    "\n",
    "sns.heatmap(confusion_matrix(y_test,svc_predicted),annot=True,fmt=\"d\")"
   ]
  },
  {
   "cell_type": "code",
   "execution_count": null,
   "id": "dea712da",
   "metadata": {},
   "outputs": [],
   "source": []
  }
 ],
 "metadata": {
  "kernelspec": {
   "display_name": "Python 3",
   "language": "python",
   "name": "python3"
  },
  "language_info": {
   "codemirror_mode": {
    "name": "ipython",
    "version": 3
   },
   "file_extension": ".py",
   "mimetype": "text/x-python",
   "name": "python",
   "nbconvert_exporter": "python",
   "pygments_lexer": "ipython3",
   "version": "3.8.8"
  }
 },
 "nbformat": 4,
 "nbformat_minor": 5
}
