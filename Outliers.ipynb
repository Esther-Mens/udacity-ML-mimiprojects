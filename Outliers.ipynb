{
 "cells": [
  {
   "cell_type": "code",
   "execution_count": 1,
   "id": "b37f439c-3ea8-47f7-b31d-c674642e97b4",
   "metadata": {},
   "outputs": [],
   "source": [
    "data =  \"Downloads/Outliers Data/practice_outliers_ages.pkl\""
   ]
  },
  {
   "cell_type": "code",
   "execution_count": 2,
   "id": "19719ad5-cc97-4c79-a8a6-921043148b1b",
   "metadata": {},
   "outputs": [],
   "source": [
    "data1 = \"Downloads/Outliers Data/practice_outliers_net_worths.pkl\""
   ]
  },
  {
   "cell_type": "code",
   "execution_count": 3,
   "id": "b0547883-0daa-4e18-ba2a-b3cf9ca5a9b9",
   "metadata": {
    "tags": []
   },
   "outputs": [],
   "source": [
    "import pandas as pd\n",
    "import pickle\n",
    "import random\n",
    "import numpy as np\n",
    "import matplotlib.pyplot as plt\n",
    "import warnings \n",
    "warnings.filterwarnings('ignore')\n",
    "import numpy"
   ]
  },
  {
   "cell_type": "code",
   "execution_count": 4,
   "id": "1f41d324-1ad0-4a23-89ac-dfc3c0ffa832",
   "metadata": {},
   "outputs": [],
   "source": [
    "ages = pd.read_pickle(data)\n",
    "net_worths = pd.read_pickle(data1)\n"
   ]
  },
  {
   "cell_type": "code",
   "execution_count": 5,
   "id": "fd84c7e5-7b6e-4556-89c0-a1a0e67fe86c",
   "metadata": {},
   "outputs": [],
   "source": [
    "def outlierCleaner(predictions, ages, net_worths):\n",
    "    \"\"\"\n",
    "        Clean away the 10% of points that have the largest\n",
    "        residual errors (difference between the prediction\n",
    "        and the actual net worth).\n",
    "\n",
    "        Return a list of tuples named cleaned_data where \n",
    "        each tuple is of the form (age, net_worth, error).\n",
    "    \"\"\"\n",
    "    \n",
    "\n",
    "    data = []\n",
    "    size = len(predictions)\n",
    "    for i in range(size):\n",
    "        error = (predictions[i][0] - net_worths[i][0]) * (predictions[i][0] - net_worths[i][0])\n",
    "        data.append((ages[i][0],\n",
    "                     net_worths[i][0],\n",
    "                     error))\n",
    "\n",
    "\n",
    "    data.sort(key=lambda tup: tup[2])\n",
    "   \n",
    "    cleaned_data = data[:81]\n",
    "\n",
    "    return cleaned_data"
   ]
  },
  {
   "cell_type": "code",
   "execution_count": 6,
   "id": "471b9415-0d26-43f0-b066-9d3663419501",
   "metadata": {},
   "outputs": [],
   "source": [
    "x = ages\n",
    "y = net_worths"
   ]
  },
  {
   "cell_type": "code",
   "execution_count": 7,
   "id": "1beaab8a-60b2-4e68-9d19-9cd0b02d30a1",
   "metadata": {},
   "outputs": [],
   "source": [
    "### ages and net_worths has to be reshaped into 2D numpy arrays\n",
    "### second argument of reshape command is a tuple of integers: (n_rows, n_columns)\n",
    "### by convention, n_rows is the number of data points and n_columns is the number of features\n",
    "x = numpy.reshape( numpy.array(x), (len(x), 1))\n",
    "y = numpy.reshape( numpy.array(y), (len(y), 1))\n",
    "from sklearn.model_selection import train_test_split\n",
    "X_train, X_test, y_train, y_test = train_test_split(x, y, test_size=0.1, random_state=42)"
   ]
  },
  {
   "cell_type": "code",
   "execution_count": 8,
   "id": "97a64f88-5800-4c94-a39b-194348c263b9",
   "metadata": {},
   "outputs": [
    {
     "name": "stdout",
     "output_type": "stream",
     "text": [
      "[[5.07793064]]\n",
      "0.8782624703664672\n"
     ]
    }
   ],
   "source": [
    "### fill in a regression here!  Name the regression object reg so that\n",
    "### the plotting code below works, and you can see what your regression looks like\n",
    "\n",
    "\n",
    "from sklearn import linear_model\n",
    "reg = linear_model.LinearRegression()\n",
    "reg.fit(X_train, y_train)\n",
    "print(reg.coef_)\n",
    "print(reg.score(X_test, y_test))"
   ]
  },
  {
   "cell_type": "code",
   "execution_count": 9,
   "id": "0590a0d7-8cef-42da-a050-0569ccb1e4eb",
   "metadata": {},
   "outputs": [
    {
     "data": {
      "image/png": "[encoded data removed]",
      "text/plain": [
       "<Figure size 432x288 with 1 Axes>"
      ]
     },
     "metadata": {
      "needs_background": "light"
     },
     "output_type": "display_data"
    }
   ],
   "source": [
    "import seaborn as sns\n",
    "try:\n",
    "    plt.plot(x, reg.predict(x), color=\"blue\")\n",
    "except NameError:\n",
    "    pass\n",
    "except NameError:\n",
    "    pass\n",
    "plt.scatter(x,y)\n",
    "plt.title('Ages vs Net Worth')\n",
    "# Set x-axis label\n",
    "plt.xlabel('Ages')\n",
    "# Set y-axis label\n",
    "plt.ylabel('Net Worth')\n",
    "plt.show()"
   ]
  },
  {
   "cell_type": "code",
   "execution_count": 10,
   "id": "0b1ce87b-a8d0-4539-b5f4-7c3822456b27",
   "metadata": {},
   "outputs": [],
   "source": [
    "### identify and remove the most outlier-y points\n",
    "cleaned_data = []\n",
    "try:\n",
    "    predictions = reg.predict(X_train)\n",
    "    cleaned_data = outlierCleaner( predictions, X_train, y_train )\n",
    "except NameError:\n",
    "    print(\"your regression object doesn't exist, or isn't name reg\")\n",
    "    print(\"can't make predictions to use in identifying outliers\")"
   ]
  },
  {
   "cell_type": "code",
   "execution_count": 11,
   "id": "1319ecb9-22ce-48b5-8c71-0c3e3168aae6",
   "metadata": {},
   "outputs": [
    {
     "name": "stdout",
     "output_type": "stream",
     "text": [
      "0.8975773446126574\n"
     ]
    },
    {
     "data": {
      "image/png": "[encoded data removed]",
      "text/plain": [
       "<Figure size 432x288 with 1 Axes>"
      ]
     },
     "metadata": {
      "needs_background": "light"
     },
     "output_type": "display_data"
    }
   ],
   "source": [
    "### only run this code if cleaned_data is returning data\n",
    "if len(cleaned_data) > 0:\n",
    "    x, y, errors = zip(*cleaned_data)\n",
    "    x       = numpy.reshape( numpy.array(ages), (len(ages), 1))\n",
    "    y = numpy.reshape( numpy.array(net_worths), (len(net_worths), 1))\n",
    "\n",
    "    ### refit your cleaned data!\n",
    "    try:\n",
    "        reg.fit(x, y)\n",
    "        print(reg.score(X_test, y_test))\n",
    "        plt.plot(x, reg.predict(x), color=\"blue\")\n",
    "    except NameError:\n",
    "        print(\"you don't seem to have regression imported/created,\")\n",
    "        print(\"or else your regression object isn't named reg\")\n",
    "        print(\"either way, only draw the scatter plot of the cleaned data\")\n",
    "    plt.scatter(x, y)\n",
    "    plt.xlabel(\"ages\")\n",
    "    plt.ylabel(\"net worths\")\n",
    "    plt.show()\n",
    "\n",
    "else:\n",
    "    print(\"outlierCleaner() is returning an empty list, no refitting to be done\")"
   ]
  },
  {
   "cell_type": "code",
   "execution_count": null,
   "id": "3d1a169f-16f8-45a4-bdbe-4c1859956c10",
   "metadata": {},
   "outputs": [],
   "source": []
  }
 ],
 "metadata": {
  "kernelspec": {
   "display_name": "Python 3",
   "language": "python",
   "name": "python3"
  },
  "language_info": {
   "codemirror_mode": {
    "name": "ipython",
    "version": 3
   },
   "file_extension": ".py",
   "mimetype": "text/x-python",
   "name": "python",
   "nbconvert_exporter": "python",
   "pygments_lexer": "ipython3",
   "version": "3.8.8"
  }
 },
 "nbformat": 4,
 "nbformat_minor": 5
}
