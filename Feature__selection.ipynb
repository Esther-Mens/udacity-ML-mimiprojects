{
 "cells": [
  {
   "cell_type": "code",
   "execution_count": 1,
   "id": "7b2d29d6-5e96-4003-8b45-79893f4c6f9c",
   "metadata": {},
   "outputs": [],
   "source": [
    "words = \"Downloads/Data/word_data.pkl\""
   ]
  },
  {
   "cell_type": "code",
   "execution_count": 2,
   "id": "a931c83a-7dde-4385-b9e4-962f96cb5f0b",
   "metadata": {},
   "outputs": [],
   "source": [
    "authors = \"Downloads/Data/email_authors.pkl\""
   ]
  },
  {
   "cell_type": "code",
   "execution_count": 5,
   "id": "8c35116a-f74f-40f3-aef3-339ea45bd7dd",
   "metadata": {},
   "outputs": [],
   "source": [
    "import pandas as pd\n",
    "import numpy"
   ]
  },
  {
   "cell_type": "code",
   "execution_count": 6,
   "id": "28b11a39-7e55-4eb6-90cf-4913e0cae1b3",
   "metadata": {},
   "outputs": [],
   "source": [
    "authors_file =  pd.read_pickle(authors)\n",
    "words_file = pd.read_pickle(words)"
   ]
  },
  {
   "cell_type": "code",
   "execution_count": 7,
   "id": "3034034f-9f77-4ee2-9626-a1fdd0944402",
   "metadata": {},
   "outputs": [],
   "source": [
    "x = words_file\n",
    "y = authors_file"
   ]
  },
  {
   "cell_type": "code",
   "execution_count": 8,
   "id": "9291a0b0-e8b5-4018-a5e9-b78cdda2cbac",
   "metadata": {},
   "outputs": [],
   "source": [
    "from sklearn.model_selection import train_test_split"
   ]
  },
  {
   "cell_type": "code",
   "execution_count": 9,
   "id": "956f0a30-ae00-4222-aed8-8e8b7be6e5a6",
   "metadata": {},
   "outputs": [],
   "source": [
    "X_train, X_test, y_train, y_test = train_test_split(x, y, test_size=0.30, random_state=42)"
   ]
  },
  {
   "cell_type": "code",
   "execution_count": 10,
   "id": "3963ef49-ee7c-4584-a3d8-41dc5d084824",
   "metadata": {},
   "outputs": [],
   "source": [
    "from sklearn.feature_extraction.text import TfidfVectorizer\n",
    "from sklearn.feature_selection import SelectPercentile, f_classif"
   ]
  },
  {
   "cell_type": "code",
   "execution_count": 11,
   "id": "41538bd3-39af-4c0f-bd47-5af52e661b1f",
   "metadata": {},
   "outputs": [],
   "source": [
    "### text vectorization--go from strings to lists of numbers\n",
    "vectorizer = TfidfVectorizer(sublinear_tf=True, max_df=0.5,\n",
    "                                 stop_words='english')\n",
    "X_train_transformed = vectorizer.fit_transform(X_train)\n",
    "X_test_transformed  = vectorizer.transform(X_test).toarray()"
   ]
  },
  {
   "cell_type": "code",
   "execution_count": 12,
   "id": "f968c341-aa2c-4911-8e42-3b79f1139d23",
   "metadata": {},
   "outputs": [],
   "source": [
    "### a classic way to overfit is to use a small number\n",
    "### of data points and a large number of features;\n",
    "### train on only 150 events to put ourselves in this regime\n",
    "X_train_transformed = X_train_transformed[:150].toarray()\n",
    "y_train = y_train[:150]"
   ]
  },
  {
   "cell_type": "code",
   "execution_count": 13,
   "id": "ace80608-c15a-4cb3-8f70-aa2978d3775d",
   "metadata": {},
   "outputs": [],
   "source": [
    "from sklearn import tree\n",
    "clf = tree.DecisionTreeClassifier()\n",
    "clf = clf.fit(X_train_transformed, y_train)"
   ]
  },
  {
   "cell_type": "code",
   "execution_count": 14,
   "id": "9b3f7f49-4e2b-4ecf-a034-3bd44477ca13",
   "metadata": {},
   "outputs": [
    {
     "name": "stdout",
     "output_type": "stream",
     "text": [
      "0.7770193401592719\n"
     ]
    }
   ],
   "source": [
    "print(clf.score(X_test_transformed, y_test))"
   ]
  },
  {
   "cell_type": "code",
   "execution_count": 15,
   "id": "1ba97142-34d5-4b17-81b8-538dcd580f89",
   "metadata": {},
   "outputs": [
    {
     "name": "stdout",
     "output_type": "stream",
     "text": [
      "17901\n",
      "0.20187958052996827\n",
      "fax\n"
     ]
    }
   ],
   "source": [
    "# find \"signature words\"\n",
    "for i, f in enumerate(clf.feature_importances_):\n",
    "\tif f > 0.2:\n",
    "\t\tprint(i) \n",
    "\t\tprint(f) \n",
    "\t\tprint(vectorizer.get_feature_names()[i])\n"
   ]
  },
  {
   "cell_type": "code",
   "execution_count": null,
   "id": "1205ab77-e3fd-49b3-8348-e7e1e9cbe2d8",
   "metadata": {},
   "outputs": [],
   "source": []
  }
 ],
 "metadata": {
  "kernelspec": {
   "display_name": "Python 3",
   "language": "python",
   "name": "python3"
  },
  "language_info": {
   "codemirror_mode": {
    "name": "ipython",
    "version": 3
   },
   "file_extension": ".py",
   "mimetype": "text/x-python",
   "name": "python",
   "nbconvert_exporter": "python",
   "pygments_lexer": "ipython3",
   "version": "3.8.8"
  }
 },
 "nbformat": 4,
 "nbformat_minor": 5
}
