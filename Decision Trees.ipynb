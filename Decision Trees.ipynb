{
 "cells": [
  {
   "cell_type": "code",
   "execution_count": 1,
   "id": "727a4083",
   "metadata": {},
   "outputs": [],
   "source": [
    "words = \"Downloads/Data/word_data.pkl\""
   ]
  },
  {
   "cell_type": "code",
   "execution_count": 2,
   "id": "f847b5e1",
   "metadata": {},
   "outputs": [],
   "source": [
    "authors = \"Downloads/Data/email_authors.pkl\""
   ]
  },
  {
   "cell_type": "code",
   "execution_count": 3,
   "id": "55587e3c",
   "metadata": {},
   "outputs": [],
   "source": [
    "import pandas as pd"
   ]
  },
  {
   "cell_type": "code",
   "execution_count": 4,
   "id": "4b9298bf",
   "metadata": {},
   "outputs": [],
   "source": [
    "authors_file =  pd.read_pickle(authors)\n",
    "words_file = pd.read_pickle(words)"
   ]
  },
  {
   "cell_type": "code",
   "execution_count": 5,
   "id": "60492291",
   "metadata": {},
   "outputs": [],
   "source": [
    "x = words_file"
   ]
  },
  {
   "cell_type": "code",
   "execution_count": 6,
   "id": "eb2d17ad",
   "metadata": {},
   "outputs": [],
   "source": [
    "y = authors_file"
   ]
  },
  {
   "cell_type": "code",
   "execution_count": 7,
   "id": "39f9008c",
   "metadata": {},
   "outputs": [],
   "source": [
    "from sklearn.model_selection import train_test_split"
   ]
  },
  {
   "cell_type": "code",
   "execution_count": 8,
   "id": "2ac030ef",
   "metadata": {},
   "outputs": [],
   "source": [
    "X_train, X_test, y_train, y_test = train_test_split(x, y, test_size=0.30, random_state=42)"
   ]
  },
  {
   "cell_type": "code",
   "execution_count": 9,
   "id": "5aeee216",
   "metadata": {},
   "outputs": [],
   "source": [
    "from sklearn.feature_extraction.text import TfidfVectorizer\n",
    "from sklearn.feature_selection import SelectPercentile, f_classif"
   ]
  },
  {
   "cell_type": "code",
   "execution_count": 10,
   "id": "a2a92389",
   "metadata": {},
   "outputs": [],
   "source": [
    "### text vectorization\n",
    "vectorizer = TfidfVectorizer(sublinear_tf=True, max_df=0.5,\n",
    "                                 stop_words='english')\n",
    "X_train_transformed = vectorizer.fit_transform(X_train)\n",
    "X_test_transformed  = vectorizer.transform(X_test)"
   ]
  },
  {
   "cell_type": "code",
   "execution_count": 11,
   "id": "f51cdd49",
   "metadata": {},
   "outputs": [],
   "source": [
    "### feature selection\n",
    "selector = SelectPercentile(f_classif, percentile=30)\n",
    "selector.fit(X_train_transformed, y_train)\n",
    "X_train_transformed = selector.transform(X_train_transformed).toarray()\n",
    "X_test_transformed  = selector.transform(X_test_transformed).toarray()"
   ]
  },
  {
   "cell_type": "code",
   "execution_count": 12,
   "id": "8cfd28e2",
   "metadata": {},
   "outputs": [
    {
     "name": "stdout",
     "output_type": "stream",
     "text": [
      "number of Chris training emails: 6161\n",
      "number of Sara training emails: 6143\n"
     ]
    }
   ],
   "source": [
    "## info on the data\n",
    "print(\"number of Chris training emails:\", sum(y_train))\n",
    "print(\"number of Sara training emails:\", len(y_train)-sum(y_train))"
   ]
  },
  {
   "cell_type": "code",
   "execution_count": 13,
   "id": "1dd633bb",
   "metadata": {},
   "outputs": [],
   "source": [
    "from sklearn.svm import SVC"
   ]
  },
  {
   "cell_type": "code",
   "execution_count": 14,
   "id": "8733a1ed",
   "metadata": {},
   "outputs": [],
   "source": [
    "from sklearn.metrics import accuracy_score\n",
    "from sklearn.metrics import classification_report,confusion_matrix\n",
    "import seaborn as sns"
   ]
  },
  {
   "cell_type": "code",
   "execution_count": 15,
   "id": "5b4dd695",
   "metadata": {},
   "outputs": [],
   "source": [
    "from sklearn.tree import DecisionTreeClassifier # Import Decision Tree Classifier\n",
    "from sklearn import metrics"
   ]
  },
  {
   "cell_type": "code",
   "execution_count": 17,
   "id": "3e533144",
   "metadata": {
    "scrolled": true
   },
   "outputs": [],
   "source": [
    "#Creating Decision Tree classifer object\n",
    "clf = DecisionTreeClassifier()"
   ]
  },
  {
   "cell_type": "code",
   "execution_count": 18,
   "id": "b4ab174d",
   "metadata": {},
   "outputs": [],
   "source": [
    "# Training  Decision Tree Classifer\n",
    "clf = clf.fit(X_train_transformed,y_train)"
   ]
  },
  {
   "cell_type": "code",
   "execution_count": 19,
   "id": "04e95867",
   "metadata": {},
   "outputs": [],
   "source": [
    "#Predicting the response for test dataset\n",
    "y_pred = clf.predict(X_test_transformed)"
   ]
  },
  {
   "cell_type": "code",
   "execution_count": 20,
   "id": "db0a0959",
   "metadata": {},
   "outputs": [
    {
     "name": "stdout",
     "output_type": "stream",
     "text": [
      "Accuracy: 0.9850208570345089\n"
     ]
    }
   ],
   "source": [
    "# Accuracy\n",
    "print(\"Accuracy:\",metrics.accuracy_score(y_test, y_pred))"
   ]
  },
  {
   "cell_type": "code",
   "execution_count": null,
   "id": "a19b8f97",
   "metadata": {},
   "outputs": [],
   "source": []
  }
 ],
 "metadata": {
  "kernelspec": {
   "display_name": "Python 3",
   "language": "python",
   "name": "python3"
  },
  "language_info": {
   "codemirror_mode": {
    "name": "ipython",
    "version": 3
   },
   "file_extension": ".py",
   "mimetype": "text/x-python",
   "name": "python",
   "nbconvert_exporter": "python",
   "pygments_lexer": "ipython3",
   "version": "3.8.8"
  }
 },
 "nbformat": 4,
 "nbformat_minor": 5
}
